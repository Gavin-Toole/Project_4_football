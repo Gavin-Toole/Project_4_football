{
 "cells": [
  {
   "cell_type": "code",
   "execution_count": null,
   "id": "edac4b8a",
   "metadata": {},
   "outputs": [],
   "source": [
    "import pandas as pd\n",
    "import numpy as np\n",
    "import matplotlib.pyplot as plt\n",
    "import requests\n",
    "import scipy.stats as stats\n",
    "import seaborn as sns\n",
    "from sklearn.cluster import KMeans\n",
    "from sklearn.decomposition import PCA\n",
    "from sklearn.preprocessing import StandardScaler"
   ]
  },
  {
   "cell_type": "code",
   "execution_count": null,
   "id": "7d3d2f03",
   "metadata": {},
   "outputs": [],
   "source": [
    "bundes_1213_summary = \"https://fbref.com/en/comps/20/2012-2013/2012-2013-Bundesliga-Stats\"\n",
    "bundes_1314_summary = \"https://fbref.com/en/comps/20/2013-2014/2013-2014-Bundesliga-Stats\"\n",
    "bundes_1415_summary = \"https://fbref.com/en/comps/20/2014-2015/2014-2015-Bundesliga-Stats\"\n",
    "bundes_1516_summary = \"https://fbref.com/en/comps/20/2015-2016/2015-2016-Bundesliga-Stats\"\n",
    "bundes_1617_summary = \"https://fbref.com/en/comps/20/2016-2017/2016-2017-Bundesliga-Stats\"\n",
    "bundes_1718_summary = \"https://fbref.com/en/comps/20/2017-2018/2017-2018-Bundesliga-Stats\"\n",
    "bundes_1819_summary = \"https://fbref.com/en/comps/20/2018-2019/2018-2019-Bundesliga-Stats\"\n",
    "bundes_1920_summary = \"https://fbref.com/en/comps/20/2019-2020/2019-2020-Bundesliga-Stats\"\n",
    "bundes_2021_summary = \"https://fbref.com/en/comps/20/2020-2021/2020-2021-Bundesliga-Stats\"\n",
    "bundes_2122_summary = \"https://fbref.com/en/comps/20/2021-2022/2021-2022-Bundesliga-Stats\""
   ]
  },
  {
   "cell_type": "code",
   "execution_count": null,
   "id": "375417ce",
   "metadata": {},
   "outputs": [],
   "source": [
    "table_1213 = pd.read_html(bundes_1213_summary)\n",
    "table_1314 = pd.read_html(bundes_1314_summary)\n",
    "table_1415 = pd.read_html(bundes_1415_summary)\n",
    "table_1516 = pd.read_html(bundes_1516_summary)\n",
    "table_1617 = pd.read_html(bundes_1617_summary)\n",
    "table_1718 = pd.read_html(bundes_1718_summary)\n",
    "table_1819 = pd.read_html(bundes_1819_summary)\n",
    "table_1920 = pd.read_html(bundes_1920_summary)\n",
    "table_2021 = pd.read_html(bundes_2021_summary)\n",
    "table_2122 = pd.read_html(bundes_2122_summary)\n"
   ]
  },
  {
   "cell_type": "code",
   "execution_count": null,
   "id": "241a187a",
   "metadata": {},
   "outputs": [],
   "source": [
    "bundes_summary_1213_df = pd.DataFrame(table_1213[0])\n",
    "bundes_summary_1314_df = pd.DataFrame(table_1314[0])\n",
    "bundes_summary_1415_df = pd.DataFrame(table_1415[0])\n",
    "bundes_summary_1516_df = pd.DataFrame(table_1516[0])\n",
    "bundes_summary_1617_df = pd.DataFrame(table_1617[0])\n",
    "bundes_summary_1718_df = pd.DataFrame(table_1718[0])\n",
    "bundes_summary_1819_df = pd.DataFrame(table_1819[0])\n",
    "bundes_summary_1920_df = pd.DataFrame(table_1920[0])\n",
    "bundes_summary_2021_df = pd.DataFrame(table_2021[0])\n",
    "bundes_summary_2122_df = pd.DataFrame(table_2122[0])"
   ]
  },
  {
   "cell_type": "code",
   "execution_count": null,
   "id": "d2617026",
   "metadata": {},
   "outputs": [],
   "source": [
    "table_1213 = pd.read_html(bundes_1213_summary)\n",
    "table_1314 = pd.read_html(bundes_1314_summary)\n",
    "table_1415 = pd.read_html(bundes_1415_summary)\n",
    "table_1516 = pd.read_html(bundes_1516_summary)\n",
    "table_1617 = pd.read_html(bundes_1617_summary)\n",
    "table_1718 = pd.read_html(bundes_1718_summary)\n",
    "table_1819 = pd.read_html(bundes_1819_summary)\n",
    "table_1920 = pd.read_html(bundes_1920_summary)\n",
    "table_2021 = pd.read_html(bundes_2021_summary)\n",
    "table_2122 = pd.read_html(bundes_2122_summary)\n",
    "\n",
    "bundes_age_1213_df = pd.DataFrame(table_1213[2])\n",
    "bundes_age_1314_df = pd.DataFrame(table_1314[2])\n",
    "bundes_age_1415_df = pd.DataFrame(table_1415[2])\n",
    "bundes_age_1516_df = pd.DataFrame(table_1516[2])\n",
    "bundes_age_1617_df = pd.DataFrame(table_1617[2])\n",
    "bundes_age_1718_df = pd.DataFrame(table_1718[2])\n",
    "bundes_age_1819_df = pd.DataFrame(table_1819[2])\n",
    "bundes_age_1920_df = pd.DataFrame(table_1920[2])\n",
    "bundes_age_2021_df = pd.DataFrame(table_2021[2])\n",
    "bundes_age_2122_df = pd.DataFrame(table_2122[2])"
   ]
  },
  {
   "cell_type": "code",
   "execution_count": null,
   "id": "9ba62e25",
   "metadata": {},
   "outputs": [],
   "source": [
    "bundes_age_1213_df = bundes_age_1213_df.droplevel(0, axis = 1)\n",
    "bundes_age_1314_df = bundes_age_1314_df.droplevel(0, axis = 1)\n",
    "bundes_age_1415_df = bundes_age_1415_df.droplevel(0, axis = 1)\n",
    "bundes_age_1516_df = bundes_age_1516_df.droplevel(0, axis = 1)\n",
    "bundes_age_1617_df = bundes_age_1617_df.droplevel(0, axis = 1)\n",
    "bundes_age_1718_df = bundes_age_1718_df.droplevel(0, axis = 1)\n",
    "bundes_age_1819_df = bundes_age_1819_df.droplevel(0, axis = 1)\n",
    "bundes_age_1920_df = bundes_age_1920_df.droplevel(0, axis = 1)\n",
    "bundes_age_2021_df = bundes_age_2021_df.droplevel(0, axis = 1)\n",
    "bundes_age_2122_df = bundes_age_2122_df.droplevel(0, axis = 1)\n",
    "bundes_age_2122_df.head()"
   ]
  },
  {
   "cell_type": "code",
   "execution_count": null,
   "id": "2bbd685a",
   "metadata": {},
   "outputs": [],
   "source": [
    "url_1314_wages = \"https://fbref.com/en/comps/20/2013-2014/wages/2013-2014-Bundesliga-Wages\"\n",
    "url_1415_wages = \"https://fbref.com/en/comps/20/2014-2015/wages/2014-2015-Bundesliga-Wages\"\n",
    "url_1516_wages = \"https://fbref.com/en/comps/20/2015-2016/wages/2015-2016-Bundesliga-Wages\"\n",
    "url_1617_wages = \"https://fbref.com/en/comps/20/2016-2017/wages/2016-2017-Bundesliga-Wages\"\n",
    "url_1718_wages = \"https://fbref.com/en/comps/20/2017-2018/wages/2017-2018-Bundesliga-Wages\"\n",
    "url_1819_wages = \"https://fbref.com/en/comps/20/2018-2019/wages/2018-2019-Bundesliga-Wages\"\n",
    "url_1920_wages = \"https://fbref.com/en/comps/20/2019-2020/wages/2019-2020-Bundesliga-Wages\"\n",
    "url_2021_wages = \"https://fbref.com/en/comps/20/2020-2021/wages/2020-2021-Bundesliga-Wages\"\n",
    "url_2122_wages = \"https://fbref.com/en/comps/20/2021-2022/wages/2021-2022-Bundesliga-Wages\""
   ]
  },
  {
   "cell_type": "code",
   "execution_count": null,
   "id": "b038f532",
   "metadata": {},
   "outputs": [],
   "source": [
    "table_1314 = pd.read_html(url_1314_wages)\n",
    "table_1415 = pd.read_html(url_1415_wages)\n",
    "table_1516 = pd.read_html(url_1516_wages)\n",
    "table_1617 = pd.read_html(url_1617_wages)\n",
    "table_1718 = pd.read_html(url_1718_wages)\n",
    "table_1819 = pd.read_html(url_1819_wages)\n",
    "table_1920 = pd.read_html(url_1920_wages)\n",
    "table_2021 = pd.read_html(url_2021_wages)\n",
    "table_2122 = pd.read_html(url_2122_wages)"
   ]
  },
  {
   "cell_type": "code",
   "execution_count": null,
   "id": "3ea214fa",
   "metadata": {},
   "outputs": [],
   "source": [
    "bundes_wages_1314_df = pd.DataFrame(table_1314[0])\n",
    "bundes_wages_1415_df = pd.DataFrame(table_1415[0])\n",
    "bundes_wages_1516_df = pd.DataFrame(table_1516[0])\n",
    "bundes_wages_1617_df = pd.DataFrame(table_1617[0])\n",
    "bundes_wages_1718_df = pd.DataFrame(table_1718[0])\n",
    "bundes_wages_1819_df = pd.DataFrame(table_1819[0])\n",
    "bundes_wages_1920_df = pd.DataFrame(table_1920[0])\n",
    "bundes_wages_2021_df = pd.DataFrame(table_2021[0])\n",
    "bundes_wages_2122_df = pd.DataFrame(table_2122[0])"
   ]
  },
  {
   "cell_type": "code",
   "execution_count": null,
   "id": "711e5c77",
   "metadata": {},
   "outputs": [],
   "source": [
    "bundes_1314_merged_df = pd.merge(bundes_summary_1314_df, bundes_wages_1314_df, how=\"left\", on=['Squad'])\n",
    "bundes_1415_merged_df = pd.merge(bundes_summary_1415_df, bundes_wages_1415_df, how=\"left\", on=['Squad'])\n",
    "bundes_1516_merged_df = pd.merge(bundes_summary_1516_df, bundes_wages_1516_df, how=\"left\", on=['Squad'])\n",
    "bundes_1617_merged_df = pd.merge(bundes_summary_1617_df, bundes_wages_1617_df, how=\"left\", on=['Squad'])\n",
    "bundes_1718_merged_df = pd.merge(bundes_summary_1718_df, bundes_wages_1718_df, how=\"left\", on=['Squad'])\n",
    "bundes_1819_merged_df = pd.merge(bundes_summary_1819_df, bundes_wages_1819_df, how=\"left\", on=['Squad'])\n",
    "bundes_1920_merged_df = pd.merge(bundes_summary_1920_df, bundes_wages_1920_df, how=\"left\", on=['Squad'])\n",
    "bundes_2021_merged_df = pd.merge(bundes_summary_2021_df, bundes_wages_2021_df, how=\"left\", on=['Squad'])\n",
    "bundes_2122_merged_df = pd.merge(bundes_summary_2122_df, bundes_wages_2122_df, how=\"left\", on=['Squad'])\n",
    "bundes_2122_merged_df"
   ]
  },
  {
   "cell_type": "code",
   "execution_count": null,
   "id": "0d683647",
   "metadata": {},
   "outputs": [],
   "source": [
    "bundes_1314_complete_df = pd.merge(bundes_1314_merged_df, bundes_age_1314_df, how=\"left\", on=[\"Squad\"])\n",
    "bundes_1415_complete_df = pd.merge(bundes_1415_merged_df, bundes_age_1415_df, how=\"left\", on=[\"Squad\"])\n",
    "bundes_1516_complete_df = pd.merge(bundes_1516_merged_df, bundes_age_1516_df, how=\"left\", on=[\"Squad\"])\n",
    "bundes_1617_complete_df = pd.merge(bundes_1617_merged_df, bundes_age_1617_df, how=\"left\", on=[\"Squad\"])\n",
    "bundes_1718_complete_df = pd.merge(bundes_1718_merged_df, bundes_age_1718_df, how=\"left\", on=[\"Squad\"])\n",
    "bundes_1819_complete_df = pd.merge(bundes_1819_merged_df, bundes_age_1819_df, how=\"left\", on=[\"Squad\"])\n",
    "bundes_1920_complete_df = pd.merge(bundes_1920_merged_df, bundes_age_1920_df, how=\"left\", on=[\"Squad\"])\n",
    "bundes_2021_complete_df = pd.merge(bundes_2021_merged_df, bundes_age_2021_df, how=\"left\", on=[\"Squad\"])\n",
    "bundes_2122_complete_df = pd.merge(bundes_2122_merged_df, bundes_age_2122_df, how=\"left\", on=[\"Squad\"])\n",
    "bundes_1314_complete_df.columns"
   ]
  },
  {
   "cell_type": "code",
   "execution_count": null,
   "id": "cdd79552",
   "metadata": {},
   "outputs": [],
   "source": [
    "bundes_1314_sum_complete_df = bundes_1314_complete_df[['Rk_y', 'Squad','# Pl_x', 'Age', 'Poss', 'Annual Wages',\n",
    "                                                         'MP_x', 'W', 'D', 'L', 'GF', 'GA', 'GD', 'Pts','Pts/MP',\n",
    "                                                          'Attendance']]\n",
    "bundes_1415_sum_complete_df = bundes_1415_complete_df[['Rk_y', 'Squad','# Pl_x', 'Age', 'Poss', 'Annual Wages',\n",
    "                                                         'MP_x', 'W', 'D', 'L', 'GF', 'GA', 'GD', 'Pts','Pts/MP',\n",
    "                                                          'Attendance']]\n",
    "bundes_1516_sum_complete_df = bundes_1516_complete_df[['Rk_y', 'Squad','# Pl_x', 'Age', 'Poss', 'Annual Wages',\n",
    "                                                         'MP_x', 'W', 'D', 'L', 'GF', 'GA', 'GD', 'Pts','Pts/MP',\n",
    "                                                          'Attendance']]\n",
    "bundes_1617_sum_complete_df = bundes_1617_complete_df[['Rk_y', 'Squad','# Pl_x', 'Age', 'Poss', 'Annual Wages',\n",
    "                                                         'MP_x', 'W', 'D', 'L', 'GF', 'GA', 'GD', 'Pts','Pts/MP',\n",
    "                                                          'Attendance']]\n",
    "bundes_1718_sum_complete_df = bundes_1718_complete_df[['Rk_y', 'Squad','# Pl_x', 'Age', 'Poss', 'Annual Wages',\n",
    "                                                         'MP_x', 'W', 'D', 'L', 'GF', 'GA', 'GD', 'Pts','Pts/MP',\n",
    "                                                          'Attendance']]\n",
    "bundes_1819_sum_complete_df = bundes_1819_complete_df[['Rk_y', 'Squad','# Pl_x', 'Age', 'Poss', 'Annual Wages',\n",
    "                                                         'MP_x', 'W', 'D', 'L', 'GF', 'GA', 'GD', 'Pts','Pts/MP',\n",
    "                                                          'Attendance']]\n",
    "bundes_1920_sum_complete_df = bundes_1920_complete_df[['Rk_y', 'Squad','# Pl_x', 'Age', 'Poss', 'Annual Wages',\n",
    "                                                         'MP_x', 'W', 'D', 'L', 'GF', 'GA', 'GD', 'Pts','Pts/MP',\n",
    "                                                          'Attendance']]\n",
    "bundes_2021_sum_complete_df = bundes_2021_complete_df[['Rk_y', 'Squad','# Pl_x', 'Age', 'Poss', 'Annual Wages',\n",
    "                                                         'MP_x', 'W', 'D', 'L', 'GF', 'GA', 'GD', 'Pts','Pts/MP',\n",
    "                                                          'Attendance']]\n",
    "bundes_2122_sum_complete_df = bundes_2122_complete_df[['Rk_y', 'Squad','# Pl_x', 'Age', 'Poss', 'Annual Wages',\n",
    "                                                         'MP_x', 'W', 'D', 'L', 'GF', 'GA', 'GD', 'Pts','Pts/MP',\n",
    "                                                          'Attendance']]\n"
   ]
  },
  {
   "cell_type": "code",
   "execution_count": null,
   "id": "ec07d340",
   "metadata": {},
   "outputs": [],
   "source": [
    "bundes_1314_sum_complete_df = bundes_1314_sum_complete_df.rename(columns={ 'Rk_y': 'League Rank', 'Age': 'Avg Age',\n",
    "                                                                             'Poss': 'Avg Poss', '# Pl_x': '# of Players',\n",
    "                                                                             'MP_x': 'MP',})\n",
    "bundes_1415_sum_complete_df = bundes_1415_sum_complete_df.rename(columns={ 'Rk_y': 'League Rank', 'Age': 'Avg Age',\n",
    "                                                                             'Poss': 'Avg Poss', '# Pl_x': '# of Players',\n",
    "                                                                             'MP_x': 'MP',})\n",
    "bundes_1516_sum_complete_df = bundes_1516_sum_complete_df.rename(columns={ 'Rk_y': 'League Rank', 'Age': 'Avg Age',\n",
    "                                                                             'Poss': 'Avg Poss', '# Pl_x': '# of Players',\n",
    "                                                                             'MP_x': 'MP',})\n",
    "bundes_1617_sum_complete_df = bundes_1617_sum_complete_df.rename(columns={ 'Rk_y': 'League Rank', 'Age': 'Avg Age',\n",
    "                                                                             'Poss': 'Avg Poss', '# Pl_x': '# of Players',\n",
    "                                                                             'MP_x': 'MP',})\n",
    "bundes_1718_sum_complete_df = bundes_1718_sum_complete_df.rename(columns={ 'Rk_y': 'League Rank', 'Age': 'Avg Age',\n",
    "                                                                             'Poss': 'Avg Poss', '# Pl_x': '# of Players',\n",
    "                                                                             'MP_x': 'MP',})\n",
    "bundes_1819_sum_complete_df = bundes_1819_sum_complete_df.rename(columns={ 'Rk_y': 'League Rank', 'Age': 'Avg Age',\n",
    "                                                                             'Poss': 'Avg Poss', '# Pl_x': '# of Players',\n",
    "                                                                             'MP_x': 'MP',})\n",
    "bundes_1920_sum_complete_df = bundes_1920_sum_complete_df.rename(columns={ 'Rk_y': 'League Rank', 'Age': 'Avg Age',\n",
    "                                                                             'Poss': 'Avg Poss', '# Pl_x': '# of Players',\n",
    "                                                                             'MP_x': 'MP', })\n",
    "bundes_2021_sum_complete_df = bundes_2021_sum_complete_df.rename(columns={ 'Rk_y': 'League Rank', 'Age': 'Avg Age',\n",
    "                                                                             'Poss': 'Avg Poss', '# Pl_x': '# of Players',\n",
    "                                                                             'MP_x': 'MP', })\n",
    "bundes_2122_sum_complete_df = bundes_2122_sum_complete_df.rename(columns={ 'Rk_y': 'League Rank', 'Age': 'Avg Age',\n",
    "                                                                             'Poss': 'Avg Poss', '# Pl_x': '# of Players',\n",
    "                                                                             'MP_x': 'MP',})\n",
    "     "
   ]
  },
  {
   "cell_type": "code",
   "execution_count": null,
   "id": "fc9cd571",
   "metadata": {},
   "outputs": [],
   "source": [
    "bundes_1314_sum_complete_df[['pounds', 'dollars']] = bundes_1314_sum_complete_df['Annual Wages'].str.split('$', expand=True)\n",
    "bundes_1415_sum_complete_df[['pounds', 'dollars']] = bundes_1415_sum_complete_df['Annual Wages'].str.split('$', expand=True)\n",
    "bundes_1516_sum_complete_df[['pounds', 'dollars']] = bundes_1516_sum_complete_df['Annual Wages'].str.split('$', expand=True)\n",
    "bundes_1617_sum_complete_df[['pounds', 'dollars']] = bundes_1617_sum_complete_df['Annual Wages'].str.split('$', expand=True)\n",
    "bundes_1718_sum_complete_df[['pounds', 'dollars']] = bundes_1718_sum_complete_df['Annual Wages'].str.split('$', expand=True)\n",
    "bundes_1819_sum_complete_df[['pounds', 'dollars']] = bundes_1819_sum_complete_df['Annual Wages'].str.split('$', expand=True)\n",
    "bundes_1920_sum_complete_df[['pounds', 'dollars']] = bundes_1920_sum_complete_df['Annual Wages'].str.split('$', expand=True)\n",
    "bundes_2021_sum_complete_df[['pounds', 'dollars']] = bundes_2021_sum_complete_df['Annual Wages'].str.split('$', expand=True)\n",
    "bundes_2122_sum_complete_df[['pounds', 'dollars']] = bundes_2122_sum_complete_df['Annual Wages'].str.split('$', expand=True)"
   ]
  },
  {
   "cell_type": "code",
   "execution_count": null,
   "id": "6346ad98",
   "metadata": {},
   "outputs": [],
   "source": [
    "bundes_1314_sum_complete_df[['Annual Wages ($)', 'discard']] = bundes_1314_sum_complete_df['dollars'].str.split(')', expand=True)\n",
    "bundes_1415_sum_complete_df[['Annual Wages ($)', 'discard']] = bundes_1415_sum_complete_df['dollars'].str.split(')', expand=True)\n",
    "bundes_1516_sum_complete_df[['Annual Wages ($)', 'discard']] = bundes_1516_sum_complete_df['dollars'].str.split(')', expand=True)\n",
    "bundes_1516_sum_complete_df[['Annual Wages ($)', 'discard']] = bundes_1617_sum_complete_df['dollars'].str.split(')', expand=True)\n",
    "bundes_1718_sum_complete_df[['Annual Wages ($)', 'discard']] = bundes_1718_sum_complete_df['dollars'].str.split(')', expand=True)\n",
    "bundes_1819_sum_complete_df[['Annual Wages ($)', 'discard']] = bundes_1819_sum_complete_df['dollars'].str.split(')', expand=True)\n",
    "bundes_1920_sum_complete_df[['Annual Wages ($)', 'discard']] = bundes_1920_sum_complete_df['dollars'].str.split(')', expand=True)\n",
    "bundes_2021_sum_complete_df[['Annual Wages ($)', 'discard']] = bundes_2021_sum_complete_df['dollars'].str.split(')', expand=True)\n",
    "bundes_2122_sum_complete_df[['Annual Wages ($)', 'discard']] = bundes_2122_sum_complete_df['dollars'].str.split(')', expand=True)"
   ]
  },
  {
   "cell_type": "code",
   "execution_count": null,
   "id": "79a745f9",
   "metadata": {},
   "outputs": [],
   "source": [
    "bundes_1314_sum_cleaned_df = bundes_1314_sum_complete_df.drop(['pounds', 'dollars', 'Annual Wages', 'discard'], axis=1)\n",
    "bundes_1415_sum_cleaned_df = bundes_1415_sum_complete_df.drop(['pounds', 'dollars', 'Annual Wages', 'discard'], axis=1)\n",
    "bundes_1516_sum_cleaned_df = bundes_1516_sum_complete_df.drop(['pounds', 'dollars', 'Annual Wages', 'discard'], axis=1)\n",
    "bundes_1617_sum_cleaned_df = bundes_1718_sum_complete_df.drop(['pounds', 'dollars', 'Annual Wages', 'discard'], axis=1)\n",
    "bundes_1718_sum_cleaned_df = bundes_1718_sum_complete_df.drop(['pounds', 'dollars', 'Annual Wages', 'discard'], axis=1)\n",
    "bundes_1819_sum_cleaned_df = bundes_1819_sum_complete_df.drop(['pounds', 'dollars', 'Annual Wages', 'discard'], axis=1)\n",
    "bundes_1920_sum_cleaned_df = bundes_1920_sum_complete_df.drop(['pounds', 'dollars', 'Annual Wages', 'discard'], axis=1)\n",
    "bundes_2021_sum_cleaned_df = bundes_2021_sum_complete_df.drop(['pounds', 'dollars', 'Annual Wages', 'discard'], axis=1)\n",
    "bundes_2122_sum_cleaned_df = bundes_2122_sum_complete_df.drop(['pounds', 'dollars', 'Annual Wages', 'discard'], axis=1)"
   ]
  },
  {
   "cell_type": "code",
   "execution_count": null,
   "id": "0ffa3945",
   "metadata": {},
   "outputs": [],
   "source": [
    "bundes_1314_sum_clean_sorted_df = bundes_1314_sum_cleaned_df.sort_values('Pts', ascending=False)\n",
    "bundes_1415_sum_clean_sorted_df = bundes_1415_sum_cleaned_df.sort_values('Pts', ascending=False)\n",
    "bundes_1516_sum_clean_sorted_df = bundes_1516_sum_cleaned_df.sort_values('Pts', ascending=False)\n",
    "bundes_1617_sum_clean_sorted_df = bundes_1617_sum_cleaned_df.sort_values('Pts', ascending=False)\n",
    "bundes_1718_sum_clean_sorted_df = bundes_1718_sum_cleaned_df.sort_values('Pts', ascending=False)\n",
    "bundes_1819_sum_clean_sorted_df = bundes_1819_sum_cleaned_df.sort_values('Pts', ascending=False)\n",
    "bundes_1920_sum_clean_sorted_df = bundes_1920_sum_cleaned_df.sort_values('Pts', ascending=False)\n",
    "bundes_2021_sum_clean_sorted_df = bundes_2021_sum_cleaned_df.sort_values('Pts', ascending=False)\n",
    "bundes_2122_sum_clean_sorted_df = bundes_2122_sum_cleaned_df.sort_values('Pts', ascending=False)"
   ]
  },
  {
   "cell_type": "code",
   "execution_count": null,
   "id": "653c74d3",
   "metadata": {},
   "outputs": [],
   "source": [
    "bundes_1314_sum_clean_sorted_df['Season'] = '2013-2014'\n",
    "bundes_1415_sum_clean_sorted_df['Season'] = '2014-2015'\n",
    "bundes_1516_sum_clean_sorted_df['Season'] = '2015-2016'\n",
    "bundes_1617_sum_clean_sorted_df['Season'] = '2016-2017'\n",
    "bundes_1718_sum_clean_sorted_df['Season'] = '2017-2018'\n",
    "bundes_1819_sum_clean_sorted_df['Season'] = '2018-2019'\n",
    "bundes_1920_sum_clean_sorted_df['Season'] = '2019-2020'\n",
    "bundes_2021_sum_clean_sorted_df['Season'] = '2020-2021'\n",
    "bundes_2122_sum_clean_sorted_df['Season'] = '2021-2022'"
   ]
  },
  {
   "cell_type": "code",
   "execution_count": null,
   "id": "7bf6f6e0",
   "metadata": {},
   "outputs": [],
   "source": [
    "bundes_seasons_sum_df = pd.concat([bundes_1314_sum_clean_sorted_df,bundes_1415_sum_clean_sorted_df,\n",
    "                                    bundes_1516_sum_clean_sorted_df,bundes_1617_sum_clean_sorted_df,bundes_1718_sum_clean_sorted_df,\n",
    "                                    bundes_1819_sum_clean_sorted_df,bundes_1920_sum_clean_sorted_df,bundes_2021_sum_clean_sorted_df,\n",
    "                                    bundes_2122_sum_clean_sorted_df])"
   ]
  },
  {
   "cell_type": "code",
   "execution_count": null,
   "id": "8d1ed8fe",
   "metadata": {},
   "outputs": [],
   "source": [
    "bundes_seasons_sum_df = bundes_seasons_sum_df[['Season', 'League Rank', 'Squad', '# of Players', 'Avg Age',\n",
    "                                                 'Avg Poss', 'MP', 'W', 'D', 'L', 'GF', 'GA', 'GD', 'Pts', 'Pts/MP',\n",
    "                                                 'Attendance', 'Annual Wages ($)']]\n",
    "\n",
    "bundes_seasons_sum_df['Annual Wages ($)'] = bundes_seasons_sum_df['Annual Wages ($)'].map(lambda x: x.replace(',', ''))\n",
    "\n",
    "bundes_seasons_sum_df['Annual Wages ($)']=bundes_seasons_sum_df['Annual Wages ($)'].astype(float)\n",
    "bundes_seasons_sum_df[\"League\"] = \"Bundesliga\"\n",
    "bundes_seasons_sum_df = bundes_seasons_sum_df.reset_index()\n",
    "bundes_seasons_sum_df.groupby('Season')[\"Annual Wages ($)\"].mean()"
   ]
  },
  {
   "cell_type": "code",
   "execution_count": null,
   "id": "44680c83",
   "metadata": {},
   "outputs": [],
   "source": [
    "bundes_seasons_sum_df.to_csv('bundes_seasons_sum.csv', index=False)"
   ]
  },
  {
   "cell_type": "code",
   "execution_count": null,
   "id": "57dfdf12",
   "metadata": {},
   "outputs": [],
   "source": []
  },
  {
   "cell_type": "code",
   "execution_count": null,
   "id": "9e35564c",
   "metadata": {},
   "outputs": [],
   "source": []
  },
  {
   "cell_type": "code",
   "execution_count": null,
   "id": "9d0959ab",
   "metadata": {},
   "outputs": [],
   "source": []
  },
  {
   "cell_type": "code",
   "execution_count": null,
   "id": "e7a59368",
   "metadata": {},
   "outputs": [],
   "source": []
  }
 ],
 "metadata": {
  "kernelspec": {
   "display_name": "Python 3 (ipykernel)",
   "language": "python",
   "name": "python3"
  },
  "language_info": {
   "codemirror_mode": {
    "name": "ipython",
    "version": 3
   },
   "file_extension": ".py",
   "mimetype": "text/x-python",
   "name": "python",
   "nbconvert_exporter": "python",
   "pygments_lexer": "ipython3",
   "version": "3.9.13"
  }
 },
 "nbformat": 4,
 "nbformat_minor": 5
}
