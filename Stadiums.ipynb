{
 "cells": [
  {
   "cell_type": "code",
   "execution_count": 20,
   "id": "de48cd18",
   "metadata": {},
   "outputs": [],
   "source": [
    "# Import required libraries\n",
    "import requests\n",
    "import pandas as pd\n",
    "import json\n",
    "\n",
    "from api_keys import geoapify_api_key"
   ]
  },
  {
   "cell_type": "code",
   "execution_count": 4,
   "id": "64b966e9",
   "metadata": {},
   "outputs": [],
   "source": [
    "stadiums_data = pd.read_csv('Data/Stadiums_All.csv')"
   ]
  },
  {
   "cell_type": "code",
   "execution_count": 5,
   "id": "e353b3dd",
   "metadata": {},
   "outputs": [
    {
     "data": {
      "text/html": [
       "<div>\n",
       "<style scoped>\n",
       "    .dataframe tbody tr th:only-of-type {\n",
       "        vertical-align: middle;\n",
       "    }\n",
       "\n",
       "    .dataframe tbody tr th {\n",
       "        vertical-align: top;\n",
       "    }\n",
       "\n",
       "    .dataframe thead th {\n",
       "        text-align: right;\n",
       "    }\n",
       "</style>\n",
       "<table border=\"1\" class=\"dataframe\">\n",
       "  <thead>\n",
       "    <tr style=\"text-align: right;\">\n",
       "      <th></th>\n",
       "      <th>ID</th>\n",
       "      <th>City</th>\n",
       "      <th>Club</th>\n",
       "      <th>Stadium</th>\n",
       "      <th>Cap</th>\n",
       "      <th>Country</th>\n",
       "    </tr>\n",
       "  </thead>\n",
       "  <tbody>\n",
       "    <tr>\n",
       "      <th>0</th>\n",
       "      <td>67</td>\n",
       "      <td>Barnsley</td>\n",
       "      <td>Barnsley</td>\n",
       "      <td>Oakwell Stadium</td>\n",
       "      <td>23,287</td>\n",
       "      <td>England</td>\n",
       "    </tr>\n",
       "    <tr>\n",
       "      <th>1</th>\n",
       "      <td>68</td>\n",
       "      <td>Birmingham</td>\n",
       "      <td>Aston Villa</td>\n",
       "      <td>Villa Park</td>\n",
       "      <td>42,785</td>\n",
       "      <td>England</td>\n",
       "    </tr>\n",
       "    <tr>\n",
       "      <th>2</th>\n",
       "      <td>69</td>\n",
       "      <td>Birmingham</td>\n",
       "      <td>Birmingham City</td>\n",
       "      <td>St Andrew's Stadium</td>\n",
       "      <td>30,009</td>\n",
       "      <td>England</td>\n",
       "    </tr>\n",
       "    <tr>\n",
       "      <th>3</th>\n",
       "      <td>70</td>\n",
       "      <td>Blackburn</td>\n",
       "      <td>Blackburn Rovers</td>\n",
       "      <td>Ewood Park</td>\n",
       "      <td>31,154</td>\n",
       "      <td>England</td>\n",
       "    </tr>\n",
       "    <tr>\n",
       "      <th>4</th>\n",
       "      <td>71</td>\n",
       "      <td>Blackpool</td>\n",
       "      <td>Blackpool</td>\n",
       "      <td>Bloomfield Road</td>\n",
       "      <td>16,007</td>\n",
       "      <td>England</td>\n",
       "    </tr>\n",
       "  </tbody>\n",
       "</table>\n",
       "</div>"
      ],
      "text/plain": [
       "   ID        City              Club              Stadium     Cap  Country\n",
       "0  67    Barnsley          Barnsley      Oakwell Stadium  23,287  England\n",
       "1  68  Birmingham       Aston Villa           Villa Park  42,785  England\n",
       "2  69  Birmingham   Birmingham City  St Andrew's Stadium  30,009  England\n",
       "3  70   Blackburn  Blackburn Rovers           Ewood Park  31,154  England\n",
       "4  71   Blackpool         Blackpool      Bloomfield Road  16,007  England"
      ]
     },
     "execution_count": 5,
     "metadata": {},
     "output_type": "execute_result"
    }
   ],
   "source": [
    "stadiums_data.head()"
   ]
  },
  {
   "cell_type": "code",
   "execution_count": 12,
   "id": "21e3dd89",
   "metadata": {},
   "outputs": [
    {
     "data": {
      "text/plain": [
       "(241, 6)"
      ]
     },
     "execution_count": 12,
     "metadata": {},
     "output_type": "execute_result"
    }
   ],
   "source": [
    "stadiums_data.shape"
   ]
  },
  {
   "cell_type": "code",
   "execution_count": 17,
   "id": "a64bfe46",
   "metadata": {},
   "outputs": [],
   "source": [
    "stadiums_data_df=stadiums_data.dropna(how='any')"
   ]
  },
  {
   "cell_type": "code",
   "execution_count": 18,
   "id": "3497684a",
   "metadata": {},
   "outputs": [
    {
     "data": {
      "text/html": [
       "<div>\n",
       "<style scoped>\n",
       "    .dataframe tbody tr th:only-of-type {\n",
       "        vertical-align: middle;\n",
       "    }\n",
       "\n",
       "    .dataframe tbody tr th {\n",
       "        vertical-align: top;\n",
       "    }\n",
       "\n",
       "    .dataframe thead th {\n",
       "        text-align: right;\n",
       "    }\n",
       "</style>\n",
       "<table border=\"1\" class=\"dataframe\">\n",
       "  <thead>\n",
       "    <tr style=\"text-align: right;\">\n",
       "      <th></th>\n",
       "      <th>ID</th>\n",
       "      <th>City</th>\n",
       "      <th>Club</th>\n",
       "      <th>Stadium</th>\n",
       "      <th>Cap</th>\n",
       "      <th>Country</th>\n",
       "    </tr>\n",
       "  </thead>\n",
       "  <tbody>\n",
       "    <tr>\n",
       "      <th>0</th>\n",
       "      <td>67</td>\n",
       "      <td>Barnsley</td>\n",
       "      <td>Barnsley</td>\n",
       "      <td>Oakwell Stadium</td>\n",
       "      <td>23,287</td>\n",
       "      <td>England</td>\n",
       "    </tr>\n",
       "    <tr>\n",
       "      <th>1</th>\n",
       "      <td>68</td>\n",
       "      <td>Birmingham</td>\n",
       "      <td>Aston Villa</td>\n",
       "      <td>Villa Park</td>\n",
       "      <td>42,785</td>\n",
       "      <td>England</td>\n",
       "    </tr>\n",
       "    <tr>\n",
       "      <th>2</th>\n",
       "      <td>69</td>\n",
       "      <td>Birmingham</td>\n",
       "      <td>Birmingham City</td>\n",
       "      <td>St Andrew's Stadium</td>\n",
       "      <td>30,009</td>\n",
       "      <td>England</td>\n",
       "    </tr>\n",
       "    <tr>\n",
       "      <th>3</th>\n",
       "      <td>70</td>\n",
       "      <td>Blackburn</td>\n",
       "      <td>Blackburn Rovers</td>\n",
       "      <td>Ewood Park</td>\n",
       "      <td>31,154</td>\n",
       "      <td>England</td>\n",
       "    </tr>\n",
       "    <tr>\n",
       "      <th>4</th>\n",
       "      <td>71</td>\n",
       "      <td>Blackpool</td>\n",
       "      <td>Blackpool</td>\n",
       "      <td>Bloomfield Road</td>\n",
       "      <td>16,007</td>\n",
       "      <td>England</td>\n",
       "    </tr>\n",
       "  </tbody>\n",
       "</table>\n",
       "</div>"
      ],
      "text/plain": [
       "   ID        City              Club              Stadium     Cap  Country\n",
       "0  67    Barnsley          Barnsley      Oakwell Stadium  23,287  England\n",
       "1  68  Birmingham       Aston Villa           Villa Park  42,785  England\n",
       "2  69  Birmingham   Birmingham City  St Andrew's Stadium  30,009  England\n",
       "3  70   Blackburn  Blackburn Rovers           Ewood Park  31,154  England\n",
       "4  71   Blackpool         Blackpool      Bloomfield Road  16,007  England"
      ]
     },
     "execution_count": 18,
     "metadata": {},
     "output_type": "execute_result"
    }
   ],
   "source": [
    "stadiums_data_df.head()"
   ]
  },
  {
   "cell_type": "code",
   "execution_count": 25,
   "id": "63d05eff",
   "metadata": {},
   "outputs": [],
   "source": [
    "# list of stadiums\n",
    "stadiums = stadiums_data_df['Stadium']\n"
   ]
  },
  {
   "cell_type": "code",
   "execution_count": 26,
   "id": "d35a4051",
   "metadata": {},
   "outputs": [],
   "source": [
    "# Your Geoapify API key\n",
    "api_key = geoapify_api_key\n"
   ]
  },
  {
   "cell_type": "code",
   "execution_count": 27,
   "id": "43063da3",
   "metadata": {},
   "outputs": [],
   "source": [
    "# Base URL for the API\n",
    "base_url = 'https://api.geoapify.com/v1/geocode/search'"
   ]
  },
  {
   "cell_type": "code",
   "execution_count": 28,
   "id": "0ef6d9e5",
   "metadata": {},
   "outputs": [],
   "source": [
    "# Empty list to store results\n",
    "results = []"
   ]
  },
  {
   "cell_type": "code",
   "execution_count": 29,
   "id": "8e05d6e2",
   "metadata": {},
   "outputs": [],
   "source": [
    "# Loop over all stadiums\n",
    "for stadium in stadiums:\n",
    "    # Parameters for the API request\n",
    "    params = {\n",
    "        'text': stadium,\n",
    "        'apiKey': api_key\n",
    "    }\n",
    "\n",
    "    # Make the request\n",
    "    response = requests.get(base_url, params=params)\n",
    "\n",
    "    # Check if the request was successful\n",
    "    if response.status_code == 200:\n",
    "        # Parse the response as JSON\n",
    "        data = response.json()\n",
    "\n",
    "        # Check if any results were found\n",
    "        if data['features']:\n",
    "            # Get the first result\n",
    "            result = data['features'][0]\n",
    "\n",
    "            # Get the coordinates (longitude, latitude) of the result\n",
    "            coordinates = result['geometry']['coordinates']\n",
    "\n",
    "            # Add the coordinates to the results list\n",
    "            results.append({\n",
    "                'Stadium': stadium,\n",
    "                'Longitude': coordinates[0],\n",
    "                'Latitude': coordinates[1]\n",
    "            })\n",
    "        else:\n",
    "            print(f\"No results found for {stadium}\")\n",
    "    else:\n",
    "        print(f\"Request failed with status code {response.status_code}\")\n"
   ]
  },
  {
   "cell_type": "code",
   "execution_count": 32,
   "id": "723a63dd",
   "metadata": {},
   "outputs": [],
   "source": [
    "# Convert the results to a DataFrame\n",
    "df = pd.DataFrame(results)"
   ]
  },
  {
   "cell_type": "code",
   "execution_count": 33,
   "id": "f858b77d",
   "metadata": {},
   "outputs": [
    {
     "name": "stdout",
     "output_type": "stream",
     "text": [
      "                           Stadium  Longitude   Latitude\n",
      "0                  Oakwell Stadium  -1.467725  53.552140\n",
      "1                       Villa Park -87.977837  41.889312\n",
      "2              St Andrew's Stadium  -1.868041  52.475567\n",
      "3                       Ewood Park  -2.489258  53.728609\n",
      "4                  Bloomfield Road  -2.373736  51.365293\n",
      "..                             ...        ...        ...\n",
      "224          Estadio Jose Zorrilla  -4.761258  41.644580\n",
      "225            Estadio El Madrigal  -0.103405  39.944208\n",
      "226  Estadio Municipal de Balaidos  -8.739231  42.211122\n",
      "227        Estadio de Mendizorroza  -9.260969  38.708812\n",
      "228            Estadio La Romareda  -0.901823  41.636489\n",
      "\n",
      "[229 rows x 3 columns]\n"
     ]
    }
   ],
   "source": [
    "# Display the DataFrame\n",
    "print(df)"
   ]
  },
  {
   "cell_type": "code",
   "execution_count": 35,
   "id": "b2ea4eb3",
   "metadata": {},
   "outputs": [
    {
     "data": {
      "text/html": [
       "<div>\n",
       "<style scoped>\n",
       "    .dataframe tbody tr th:only-of-type {\n",
       "        vertical-align: middle;\n",
       "    }\n",
       "\n",
       "    .dataframe tbody tr th {\n",
       "        vertical-align: top;\n",
       "    }\n",
       "\n",
       "    .dataframe thead th {\n",
       "        text-align: right;\n",
       "    }\n",
       "</style>\n",
       "<table border=\"1\" class=\"dataframe\">\n",
       "  <thead>\n",
       "    <tr style=\"text-align: right;\">\n",
       "      <th></th>\n",
       "      <th>ID</th>\n",
       "      <th>City</th>\n",
       "      <th>Club</th>\n",
       "      <th>Stadium</th>\n",
       "      <th>Cap</th>\n",
       "      <th>Country</th>\n",
       "      <th>Longitude</th>\n",
       "      <th>Latitude</th>\n",
       "    </tr>\n",
       "  </thead>\n",
       "  <tbody>\n",
       "    <tr>\n",
       "      <th>0</th>\n",
       "      <td>67</td>\n",
       "      <td>Barnsley</td>\n",
       "      <td>Barnsley</td>\n",
       "      <td>Oakwell Stadium</td>\n",
       "      <td>23,287</td>\n",
       "      <td>England</td>\n",
       "      <td>-1.467725</td>\n",
       "      <td>53.552140</td>\n",
       "    </tr>\n",
       "    <tr>\n",
       "      <th>1</th>\n",
       "      <td>68</td>\n",
       "      <td>Birmingham</td>\n",
       "      <td>Aston Villa</td>\n",
       "      <td>Villa Park</td>\n",
       "      <td>42,785</td>\n",
       "      <td>England</td>\n",
       "      <td>-87.977837</td>\n",
       "      <td>41.889312</td>\n",
       "    </tr>\n",
       "    <tr>\n",
       "      <th>2</th>\n",
       "      <td>69</td>\n",
       "      <td>Birmingham</td>\n",
       "      <td>Birmingham City</td>\n",
       "      <td>St Andrew's Stadium</td>\n",
       "      <td>30,009</td>\n",
       "      <td>England</td>\n",
       "      <td>-1.868041</td>\n",
       "      <td>52.475567</td>\n",
       "    </tr>\n",
       "    <tr>\n",
       "      <th>3</th>\n",
       "      <td>70</td>\n",
       "      <td>Blackburn</td>\n",
       "      <td>Blackburn Rovers</td>\n",
       "      <td>Ewood Park</td>\n",
       "      <td>31,154</td>\n",
       "      <td>England</td>\n",
       "      <td>-2.489258</td>\n",
       "      <td>53.728609</td>\n",
       "    </tr>\n",
       "    <tr>\n",
       "      <th>4</th>\n",
       "      <td>71</td>\n",
       "      <td>Blackpool</td>\n",
       "      <td>Blackpool</td>\n",
       "      <td>Bloomfield Road</td>\n",
       "      <td>16,007</td>\n",
       "      <td>England</td>\n",
       "      <td>-2.373736</td>\n",
       "      <td>51.365293</td>\n",
       "    </tr>\n",
       "  </tbody>\n",
       "</table>\n",
       "</div>"
      ],
      "text/plain": [
       "   ID        City              Club              Stadium     Cap  Country  \\\n",
       "0  67    Barnsley          Barnsley      Oakwell Stadium  23,287  England   \n",
       "1  68  Birmingham       Aston Villa           Villa Park  42,785  England   \n",
       "2  69  Birmingham   Birmingham City  St Andrew's Stadium  30,009  England   \n",
       "3  70   Blackburn  Blackburn Rovers           Ewood Park  31,154  England   \n",
       "4  71   Blackpool         Blackpool      Bloomfield Road  16,007  England   \n",
       "\n",
       "   Longitude   Latitude  \n",
       "0  -1.467725  53.552140  \n",
       "1 -87.977837  41.889312  \n",
       "2  -1.868041  52.475567  \n",
       "3  -2.489258  53.728609  \n",
       "4  -2.373736  51.365293  "
      ]
     },
     "execution_count": 35,
     "metadata": {},
     "output_type": "execute_result"
    }
   ],
   "source": [
    "final_stadium_df=pd.merge(stadiums_data_df,df,how='left',on='Stadium')\n",
    "final_stadium_df.head()"
   ]
  },
  {
   "cell_type": "code",
   "execution_count": 41,
   "id": "03f14270",
   "metadata": {},
   "outputs": [],
   "source": [
    "final_stadium_df=final_stadium_df.drop('ID',axis=1)"
   ]
  },
  {
   "cell_type": "code",
   "execution_count": 42,
   "id": "5b408b46",
   "metadata": {},
   "outputs": [
    {
     "data": {
      "text/html": [
       "<div>\n",
       "<style scoped>\n",
       "    .dataframe tbody tr th:only-of-type {\n",
       "        vertical-align: middle;\n",
       "    }\n",
       "\n",
       "    .dataframe tbody tr th {\n",
       "        vertical-align: top;\n",
       "    }\n",
       "\n",
       "    .dataframe thead th {\n",
       "        text-align: right;\n",
       "    }\n",
       "</style>\n",
       "<table border=\"1\" class=\"dataframe\">\n",
       "  <thead>\n",
       "    <tr style=\"text-align: right;\">\n",
       "      <th></th>\n",
       "      <th>City</th>\n",
       "      <th>Club</th>\n",
       "      <th>Stadium</th>\n",
       "      <th>Cap</th>\n",
       "      <th>Country</th>\n",
       "      <th>Longitude</th>\n",
       "      <th>Latitude</th>\n",
       "    </tr>\n",
       "  </thead>\n",
       "  <tbody>\n",
       "    <tr>\n",
       "      <th>0</th>\n",
       "      <td>Barnsley</td>\n",
       "      <td>Barnsley</td>\n",
       "      <td>Oakwell Stadium</td>\n",
       "      <td>23,287</td>\n",
       "      <td>England</td>\n",
       "      <td>-1.467725</td>\n",
       "      <td>53.552140</td>\n",
       "    </tr>\n",
       "    <tr>\n",
       "      <th>1</th>\n",
       "      <td>Birmingham</td>\n",
       "      <td>Aston Villa</td>\n",
       "      <td>Villa Park</td>\n",
       "      <td>42,785</td>\n",
       "      <td>England</td>\n",
       "      <td>-87.977837</td>\n",
       "      <td>41.889312</td>\n",
       "    </tr>\n",
       "    <tr>\n",
       "      <th>2</th>\n",
       "      <td>Birmingham</td>\n",
       "      <td>Birmingham City</td>\n",
       "      <td>St Andrew's Stadium</td>\n",
       "      <td>30,009</td>\n",
       "      <td>England</td>\n",
       "      <td>-1.868041</td>\n",
       "      <td>52.475567</td>\n",
       "    </tr>\n",
       "    <tr>\n",
       "      <th>3</th>\n",
       "      <td>Blackburn</td>\n",
       "      <td>Blackburn Rovers</td>\n",
       "      <td>Ewood Park</td>\n",
       "      <td>31,154</td>\n",
       "      <td>England</td>\n",
       "      <td>-2.489258</td>\n",
       "      <td>53.728609</td>\n",
       "    </tr>\n",
       "    <tr>\n",
       "      <th>4</th>\n",
       "      <td>Blackpool</td>\n",
       "      <td>Blackpool</td>\n",
       "      <td>Bloomfield Road</td>\n",
       "      <td>16,007</td>\n",
       "      <td>England</td>\n",
       "      <td>-2.373736</td>\n",
       "      <td>51.365293</td>\n",
       "    </tr>\n",
       "  </tbody>\n",
       "</table>\n",
       "</div>"
      ],
      "text/plain": [
       "         City              Club              Stadium     Cap  Country  \\\n",
       "0    Barnsley          Barnsley      Oakwell Stadium  23,287  England   \n",
       "1  Birmingham       Aston Villa           Villa Park  42,785  England   \n",
       "2  Birmingham   Birmingham City  St Andrew's Stadium  30,009  England   \n",
       "3   Blackburn  Blackburn Rovers           Ewood Park  31,154  England   \n",
       "4   Blackpool         Blackpool      Bloomfield Road  16,007  England   \n",
       "\n",
       "   Longitude   Latitude  \n",
       "0  -1.467725  53.552140  \n",
       "1 -87.977837  41.889312  \n",
       "2  -1.868041  52.475567  \n",
       "3  -2.489258  53.728609  \n",
       "4  -2.373736  51.365293  "
      ]
     },
     "execution_count": 42,
     "metadata": {},
     "output_type": "execute_result"
    }
   ],
   "source": [
    "final_stadium_df.head()"
   ]
  },
  {
   "cell_type": "code",
   "execution_count": 43,
   "id": "19510310",
   "metadata": {},
   "outputs": [],
   "source": [
    "final_stadium_df.to_csv('Data/Stadium_Lat_Lng_data.csv', index=False)"
   ]
  },
  {
   "cell_type": "code",
   "execution_count": null,
   "id": "e3f166a5",
   "metadata": {},
   "outputs": [],
   "source": []
  }
 ],
 "metadata": {
  "kernelspec": {
   "display_name": "Python 3 (ipykernel)",
   "language": "python",
   "name": "python3"
  },
  "language_info": {
   "codemirror_mode": {
    "name": "ipython",
    "version": 3
   },
   "file_extension": ".py",
   "mimetype": "text/x-python",
   "name": "python",
   "nbconvert_exporter": "python",
   "pygments_lexer": "ipython3",
   "version": "3.9.13"
  }
 },
 "nbformat": 4,
 "nbformat_minor": 5
}
